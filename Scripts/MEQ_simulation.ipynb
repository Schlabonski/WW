{
 "cells": [
  {
   "cell_type": "code",
   "execution_count": null,
   "metadata": {
    "collapsed": false
   },
   "outputs": [],
   "source": [
    "# general imports\n",
    "\n",
    "import os\n",
    "import sys\n",
    "import itertools\n",
    "sys.path.append(os.path.expanduser('~/PythonModules/Own'))\n",
    "\n",
    "import seaborn as sns\n",
    "import numpy as np\n",
    "import scipy.signal as sig\n",
    "import scipy.constants as csts\n",
    "import scipy.odr as odr\n",
    "import matplotlib.pyplot as plt\n",
    "#import master_equation_simulation_py3 as meq # no python3 support :-((((\n",
    "\n",
    "from mpl_toolkits.axes_grid1 import make_axes_locatable\n",
    "\n",
    "# importing own packages and methods\n",
    "\n",
    "import fitting_functions as func\n",
    "\n",
    "from plotting import *\n",
    "\n",
    "# notebook setup\n",
    "\n",
    "set_sns_standard(context='talk')\n",
    "\n",
    "# do some magix\n",
    "%matplotlib inline\n",
    "%load_ext autoreload\n",
    "%autoreload 2"
   ]
  },
  {
   "cell_type": "code",
   "execution_count": null,
   "metadata": {
    "collapsed": false
   },
   "outputs": [],
   "source": [
    "# import list with residue names\n",
    "residue_names = []\n",
    "with open('../working_files/residues_WW.txt') as f:\n",
    "    for line in f:\n",
    "        index, name = line.split()\n",
    "        residue_names.append(index+' '+name)\n",
    "        \n",
    "print(residue_names)"
   ]
  },
  {
   "cell_type": "code",
   "execution_count": null,
   "metadata": {
    "collapsed": true
   },
   "outputs": [],
   "source": [
    "def plot_E_kin(E_kin_array, time, plotlabels, saveroot='E_kin_MD', E_kin_model=None, t_model=None, log=True, norm_to_zero=True):\n",
    "    fig = plt.figure(figsize=(10,6))\n",
    "    axe = fig.add_subplot(111)\n",
    "    \n",
    "    for i, e_kin in enumerate(E_kin_array):\n",
    "        if norm_to_zero:\n",
    "            lineplot = axe.plot(time, e_kin-e_kin[0], label=plotlabels[i])\n",
    "        else:\n",
    "            lineplot = axe.plot(time, e_kin, label=plotlabels[i])\n",
    "\n",
    "        if type(E_kin_model) != type(None):\n",
    "            if norm_to_zero:\n",
    "                axe.plot(t_model, E_kin_model[i]-E_kin_model[i,0], '--', color = lineplot[0].get_color())\n",
    "            else:\n",
    "                axe.plot(t_model, E_kin_model[i], '--', color = lineplot[0].get_color())\n",
    "    \n",
    "    if log:\n",
    "        axe.set_xscale('log')\n",
    "    axe.legend()\n",
    "    axe.set_xlabel('t / ps')\n",
    "    axe.set_ylabel('E$_{kin}$ / kJ mol$^{-1}$')\n",
    "    \n",
    "    if type(E_kin_model) == type(None): \n",
    "        axe.set_xlim(xmin=min(time), xmax=max(time))\n",
    "    elif type(E_kin_model) == type(np.zeros(0)):\n",
    "        axe.set_xlim(xmin=min(t_model), xmax=max(t_model))\n",
    "\n",
    "    \n",
    "    savename = '/home/thiele/Documents/Physik/HiWi/WW/Plots/' + saveroot\n",
    "    for resname in plotlabels:\n",
    "        savename += '_{0}'.format(resname.replace(' ', ''))\n",
    "    if not log:\n",
    "        savename += '_lin'\n",
    "    savename += '.pdf'\n",
    "    \n",
    "    fig.tight_layout()\n",
    "    fig.savefig(savename)"
   ]
  },
  {
   "cell_type": "markdown",
   "metadata": {},
   "source": [
    "# MD Data"
   ]
  },
  {
   "cell_type": "markdown",
   "metadata": {},
   "source": [
    "## Raw results"
   ]
  },
  {
   "cell_type": "code",
   "execution_count": null,
   "metadata": {
    "collapsed": false
   },
   "outputs": [],
   "source": [
    "E_kin_MD = np.load('../working_files/E_kin_all_residues_average.npy')/100 # divide by 100 due to MDanalysis units\n",
    "t = np.load('../working_files/time_scale.npy')\n",
    "time_MD = t\n",
    "\n",
    "# apply savitzki golay filter to data\n",
    "'''exponential_intervals = [0]\n",
    "exponential_intervals += [10**i for i in range(1, int(round(np.log10(len(E_kin_MD[0])))))]\n",
    "\n",
    "for ekin in E_kin_MD:\n",
    "    for i in range(len(exponential_intervals)-1):\n",
    "        if i < len(exponential_intervals)-2:\n",
    "            index1 = exponential_intervals[i]\n",
    "            index2 = exponential_intervals[i+1]\n",
    "            ekin_unfiltered = ekin[index1:index2]\n",
    "            ekin_filtered = sig.savgol_filter(ekin_unfiltered, 5**(i+1), 4)\n",
    "            ekin[index1:index2] = ekin_filtered\n",
    "            \n",
    "        elif i == len(exponential_intervals)-2:\n",
    "            index1 = exponential_intervals[i]\n",
    "            ekin_unfiltered = ekin[index1:]\n",
    "            ekin_filtered = sig.savgol_filter(ekin_unfiltered, 5**(i+1), 4)\n",
    "            ekin[index1:] = ekin_filtered'''\n",
    "\n",
    "\n",
    "plotlabels = residue_names[1:]\n",
    "\n",
    "    \n",
    "plot_E_kin(E_kin_MD[12:17], t, plotlabels[12:17])\n",
    "\n",
    "plot_E_kin(E_kin_MD[17:18], t, plotlabels[17:18], norm_to_zero=False)\n",
    "\n",
    "plot_E_kin(E_kin_MD[18:23], t, plotlabels[18:23])\n",
    "\n",
    "plot_E_kin(E_kin_MD[23:26], t, plotlabels[23:26])\n",
    "\n",
    "\n",
    "plot_E_kin(E_kin_MD[5:8], t, plotlabels[5:8])\n",
    "\n",
    "plot_E_kin(E_kin_MD[26:], t, plotlabels[26:])\n",
    "\n",
    "plot_E_kin(E_kin_MD[17:18, :1000], t[:1000], plotlabels[17:18], log=False)\n",
    "plot_E_kin(E_kin_MD[15:17], t, plotlabels[15:17], log=False)\n",
    "\n",
    "\n",
    "# total energy of peptide\n",
    "plot_E_kin([np.sum(E_kin_MD, axis=0)[:1000]], time_MD[:1000], plotlabels=['Total energy'], saveroot='E_kin_tot_MD')"
   ]
  },
  {
   "cell_type": "markdown",
   "metadata": {},
   "source": [
    "## Exponential fit of the decay rate of the heater"
   ]
  },
  {
   "cell_type": "code",
   "execution_count": null,
   "metadata": {
    "collapsed": false
   },
   "outputs": [],
   "source": [
    "# fit the decay rate of azu to the data\n",
    "def exp_func(B, x):\n",
    "    return func.ExponentialC(x, *B)\n",
    "\n",
    "def f(B, x):\n",
    "    '''Linear function y = m*x + b'''\n",
    "    return B[0]*x + B[1]\n",
    "\n",
    "#exponential fit\n",
    "exp_model = odr.Model(exp_func)\n",
    "print(len(t), len(E_kin_MD[17:18][0]), t[10], t[2000])\n",
    "azu_data = odr.Data(t[10:2000], E_kin_MD[17:18, 10:2000][0])\n",
    "azu_odr = odr.ODR(azu_data, exp_model, beta0=[160, -10, 0.21, 0])\n",
    "\n",
    "azu_fit_results = azu_odr.run()\n",
    "\n",
    "azu_fit_results.pprint()\n",
    "popt = azu_fit_results.beta\n",
    "print(popt)\n",
    "\n",
    "fig =  plt.figure()\n",
    "axe = fig.add_subplot(111)\n",
    "\n",
    "axe.plot(t[10:2000], E_kin_MD[17:18, 10:2000][0])\n",
    "axe.plot(t, exp_func(popt,t))\n",
    "axe.set_xscale('log')\n",
    "\n",
    "#linear fit of logged data\n",
    "lin_model = odr.Model(f)\n",
    "#azu_data_ln = "
   ]
  },
  {
   "cell_type": "markdown",
   "metadata": {},
   "source": [
    "# Comparison of MD and MEQ"
   ]
  },
  {
   "cell_type": "code",
   "execution_count": null,
   "metadata": {
    "collapsed": false
   },
   "outputs": [],
   "source": [
    "E_kin_MEQ = np.load('../working_files/E_kin_all_residues_MEQ.npy')/100\n",
    "\n",
    "plot_E_kin(E_kin_MD[15:17], time_MD, plotlabels[15:17], saveroot='E_kin_MEQ_MD', E_kin_model=E_kin_MEQ[16:18], t_model=time_MEQ)\n",
    "plot_E_kin(E_kin_MD[17:18], time_MD, plotlabels[17:18], saveroot='E_kin_MEQ_MD', E_kin_model=E_kin_MEQ[18:19], t_model=time_MEQ)\n",
    "plot_E_kin(E_kin_MD[18:23], time_MD, plotlabels[18:23], saveroot='E_kin_MEQ_MD', E_kin_model=E_kin_MEQ[19:24], t_model=time_MEQ)\n",
    "plot_E_kin(E_kin_MD[6:9], time_MD, plotlabels[6:9], saveroot='E_kin_MEQ_MD', E_kin_model=E_kin_MEQ[7:10], t_model=time_MEQ)\n",
    "plot_E_kin(E_kin_MD[26:], time_MD, plotlabels[26:], saveroot='E_kin_MEQ_MD', E_kin_model=E_kin_MEQ[27:29], t_model=time_MEQ)\n"
   ]
  },
  {
   "cell_type": "code",
   "execution_count": null,
   "metadata": {
    "collapsed": false
   },
   "outputs": [],
   "source": [
    "polar_rates_matrix = np.load('../working_files/polar_rates_matrix.npy')\n",
    "axis = np.arange(1,37, 5)\n",
    "\n",
    "def plot_matrix(matrix, xticklabels, yticklabels):\n",
    "    fig = plt.figure(figsize=(10,10))\n",
    "    axe = fig.add_subplot(111, aspect=1.0)\n",
    "\n",
    "    mappable = axe.imshow(matrix, extent = [min(xticklabels), max(xticklabels), max(yticklabels), min(yticklabels)], cmap = sns.cubehelix_palette(light=1, as_cmap=True), interpolation='none')\n",
    "    \n",
    "    axe.xaxis.tick_top()\n",
    "    axe.yaxis.tick_left()\n",
    "    \n",
    "    divider = make_axes_locatable(axe)\n",
    "    cax = divider.append_axes(\"right\", size=\"5%\", pad=0.5)\n",
    "\n",
    "    plt.colorbar(mappable, cax=cax)\n",
    "    \n",
    "    return fig\n",
    "    \n",
    "    \n",
    "print(polar_rates_matrix[8,17], polar_rates_matrix[8,18], polar_rates_matrix[8,19])\n",
    "print(polar_rates_matrix[27,:])\n",
    "    \n",
    "fig = plot_matrix(polar_rates_matrix, xticklabels=axis, yticklabels=axis)\n",
    "fig.savefig('../Plots/polar_rates_matrix.png')"
   ]
  },
  {
   "cell_type": "code",
   "execution_count": null,
   "metadata": {
    "collapsed": false
   },
   "outputs": [],
   "source": [
    "bonded_rates_matrix = np.load('../working_files/bonded_rates_matrix.npy')\n",
    "axis = np.arange(1,35)\n",
    "\n",
    "polar_rates_matrix = np.load('../working_files/polar_rates_matrix.npy')\n",
    "axis = np.arange(1,36, 5)\n",
    "  \n",
    "fig = plot_matrix(bonded_rates_matrix, xticklabels=axis, yticklabels=axis)\n",
    "fig.savefig('../Plots/bonded_rates_matrix.pdf')\n",
    "\n",
    "bonded_rates_matrix[27, 28]"
   ]
  },
  {
   "cell_type": "code",
   "execution_count": null,
   "metadata": {
    "collapsed": false,
    "scrolled": true
   },
   "outputs": [],
   "source": [
    "k_B = csts.Boltzmann\n",
    "mol = csts.physical_constants['Avogadro constant'][0]\n",
    "\n",
    "ekin = 60 * 67/2*k_B*910*mol/1000\n",
    "print(ekin)\n",
    "\n",
    "# approximate temperature of valine at begining.\n",
    "180/k_B/mol*1000*2/39/19"
   ]
  },
  {
   "cell_type": "code",
   "execution_count": null,
   "metadata": {
    "collapsed": true
   },
   "outputs": [],
   "source": []
  }
 ],
 "metadata": {
  "kernelspec": {
   "display_name": "Python 3",
   "language": "python",
   "name": "python3"
  },
  "language_info": {
   "codemirror_mode": {
    "name": "ipython",
    "version": 3
   },
   "file_extension": ".py",
   "mimetype": "text/x-python",
   "name": "python",
   "nbconvert_exporter": "python",
   "pygments_lexer": "ipython3",
   "version": "3.5.1"
  }
 },
 "nbformat": 4,
 "nbformat_minor": 0
}
